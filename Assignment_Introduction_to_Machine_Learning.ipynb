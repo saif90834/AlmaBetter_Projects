{
  "nbformat": 4,
  "nbformat_minor": 0,
  "metadata": {
    "colab": {
      "provenance": [],
      "include_colab_link": true
    },
    "kernelspec": {
      "name": "python3",
      "display_name": "Python 3"
    }
  },
  "cells": [
    {
      "cell_type": "markdown",
      "metadata": {
        "id": "view-in-github",
        "colab_type": "text"
      },
      "source": [
        "<a href=\"https://colab.research.google.com/github/saif90834/AlmaBetter_Projects/blob/main/Assignment_Introduction_to_Machine_Learning.ipynb\" target=\"_parent\"><img src=\"https://colab.research.google.com/assets/colab-badge.svg\" alt=\"Open In Colab\"/></a>"
      ]
    },
    {
      "cell_type": "markdown",
      "metadata": {
        "id": "Oq9OIkpjU3hr"
      },
      "source": [
        "# <b> Write a detailed blog on the introduction to machine learning wherein you will discuss about ideas of supervised, unsupervised and reinforcement learning. Also elaborate these ideas by expanding upon your understanding of classification, regression and clustering. Also lay down the steps involved in supervised learning. Use relevant and unique examples for discussing each ML technique.</b>"
      ]
    },
    {
      "cell_type": "markdown",
      "source": [
        "**Machine Learning**\n"
      ],
      "metadata": {
        "id": "Ipa7eWUYwKVA"
      }
    },
    {
      "cell_type": "markdown",
      "source": [
        "Machine learning is the scientific study of algorithms and statistical models that computer systems use to\n",
        "effectively perform a specific task without using explicit instructions, relying on patterns and inference\n",
        "instead.\n",
        "Building a model by learning the patterns of historical data with some relationship between data to make\n",
        "a data-driven prediction.\n"
      ],
      "metadata": {
        "id": "oCmEP7WYxRG0"
      }
    },
    {
      "cell_type": "code",
      "source": [],
      "metadata": {
        "id": "IYVPyrvMxX3y"
      },
      "execution_count": null,
      "outputs": []
    },
    {
      "cell_type": "markdown",
      "source": [
        "**Types of Machine Learning**"
      ],
      "metadata": {
        "id": "Ko6ggU6ixful"
      }
    },
    {
      "cell_type": "markdown",
      "source": [
        "There are three types of Machine learning\n",
        "\n",
        "\n",
        "\n",
        "\n",
        "*   Supervised Machine Learning\n",
        "*   Unsupervised Machine Learning\n",
        "*   Reinforcement Machine Learning\n",
        "\n",
        "\n",
        "\n"
      ],
      "metadata": {
        "id": "PCZSYenyxszj"
      }
    },
    {
      "cell_type": "markdown",
      "source": [
        " **Supervised learning**  \n",
        "In a supervised learning model, the algorithm learns on a labeled dataset, to generate reasonable\n",
        "predictions for the response to new data. (Forecasting outcome of new data)\n",
        "* Regression ( Real State Prediction, Weather Forecasting etc)\n",
        "* Classification(Credit Card Fraud, Disease recognition etc)"
      ],
      "metadata": {
        "id": "_jvdtBscyMxV"
      }
    },
    {
      "cell_type": "markdown",
      "source": [
        "**Unsupervised Machine Learning**\n",
        "\n",
        "An unsupervised model, in contrast, provides unlabelled data that the algorithm tries to make sense of by\n",
        "extracting features, co-occurrence and underlying patterns on its own. We use unsupervised learning for\n",
        "* Clustering ( Customer Segmentaion)\n",
        "* Association   (Fraud Detection, PUblic Health )\n",
        "\n",
        "\n"
      ],
      "metadata": {
        "id": "aK-Jp_xhylEc"
      }
    },
    {
      "cell_type": "markdown",
      "source": [
        "**Reinforcement Learning**\n",
        "\n",
        "Reinforcement learning is less supervised and depends on the learning agent in determining the output\n",
        "solutions by arriving at different possible ways to achieve the best possible solution."
      ],
      "metadata": {
        "id": "Ogrlt1KqzKOK"
      }
    },
    {
      "cell_type": "markdown",
      "source": [
        "**Process of Supervised Machine Learning **\n",
        "\n",
        "\n",
        "\n",
        "Input ---> Algorithm ---> Output"
      ],
      "metadata": {
        "id": "Nka98was1XRD"
      }
    },
    {
      "cell_type": "code",
      "source": [],
      "metadata": {
        "id": "b3T2O5RA1iKz"
      },
      "execution_count": null,
      "outputs": []
    }
  ]
}